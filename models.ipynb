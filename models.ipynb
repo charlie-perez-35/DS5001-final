{
 "cells": [
  {
   "cell_type": "markdown",
   "id": "3857e2f8-1222-4607-b902-657176891059",
   "metadata": {},
   "source": [
    "# Models\n",
    "\n",
    "Moving onto the modelling portion of the assignment. \n",
    "\n",
    "### PCA Stuff"
   ]
  }
 ],
 "metadata": {
  "kernelspec": {
   "display_name": "Python 3 (ipykernel)",
   "language": "python",
   "name": "python3"
  },
  "language_info": {
   "codemirror_mode": {
    "name": "ipython",
    "version": 3
   },
   "file_extension": ".py",
   "mimetype": "text/x-python",
   "name": "python",
   "nbconvert_exporter": "python",
   "pygments_lexer": "ipython3",
   "version": "3.11.4"
  }
 },
 "nbformat": 4,
 "nbformat_minor": 5
}
